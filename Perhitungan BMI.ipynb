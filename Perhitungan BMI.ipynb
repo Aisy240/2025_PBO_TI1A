{
  "nbformat": 4,
  "nbformat_minor": 0,
  "metadata": {
    "colab": {
      "provenance": [],
      "authorship_tag": "ABX9TyOs9k0T9Ff/V+R3Y+Fub0AK",
      "include_colab_link": true
    },
    "kernelspec": {
      "name": "python3",
      "display_name": "Python 3"
    },
    "language_info": {
      "name": "python"
    }
  },
  "cells": [
    {
      "cell_type": "markdown",
      "metadata": {
        "id": "view-in-github",
        "colab_type": "text"
      },
      "source": [
        "<a href=\"https://colab.research.google.com/github/Aisy240/2025_PBO_TI1A/blob/main/Perhitungan%20BMI.ipynb\" target=\"_parent\"><img src=\"https://colab.research.google.com/assets/colab-badge.svg\" alt=\"Open In Colab\"/></a>"
      ]
    },
    {
      "cell_type": "code",
      "execution_count": 1,
      "metadata": {
        "id": "H2UoX7oHv2Qx",
        "outputId": "0e1edea0-8b85-4e4d-b5ab-9bd622737f19",
        "colab": {
          "base_uri": "https://localhost:8080/"
        }
      },
      "outputs": [
        {
          "output_type": "stream",
          "name": "stdout",
          "text": [
            "Masukkan berat badan anda (kg) = 55\n",
            "Masukkan tinggi badan anda (cm) = 160\n",
            "bmi anda 21.48\n",
            "\n",
            "Berat badan anda normal\n"
          ]
        }
      ],
      "source": [
        "berat_badan = int(input(\"Masukkan berat badan anda (kg) = \"))\n",
        "tinggi_badan = int(input(\"Masukkan tinggi badan anda (cm) = \"))\n",
        "tinggi_badan /=100\n",
        "\n",
        "bmi = berat_badan / (tinggi_badan ** 2)\n",
        "print(\"bmi anda\", round(bmi, 2))\n",
        "\n",
        "if bmi < 18.5:\n",
        "    print(\"\\nBerat badan anda di bawah rata-rata (Underweight)\")\n",
        "elif bmi >= 18.5 and bmi < 24.9:\n",
        "    print(\"\\nBerat badan anda normal\")\n",
        "else:\n",
        "    print(\"\\nBerat badan anda di atas rata-rata (Overweight)\")"
      ]
    }
  ]
}