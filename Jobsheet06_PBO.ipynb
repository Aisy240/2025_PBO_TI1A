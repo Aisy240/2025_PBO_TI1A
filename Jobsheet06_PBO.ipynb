{
  "nbformat": 4,
  "nbformat_minor": 0,
  "metadata": {
    "colab": {
      "provenance": [],
      "authorship_tag": "ABX9TyNwIRxocaazF5/KO8qcUcf7",
      "include_colab_link": true
    },
    "kernelspec": {
      "name": "python3",
      "display_name": "Python 3"
    },
    "language_info": {
      "name": "python"
    }
  },
  "cells": [
    {
      "cell_type": "markdown",
      "metadata": {
        "id": "view-in-github",
        "colab_type": "text"
      },
      "source": [
        "<a href=\"https://colab.research.google.com/github/Aisy240/2025_PBO_TI1A/blob/main/Jobsheet06_PBO.ipynb\" target=\"_parent\"><img src=\"https://colab.research.google.com/assets/colab-badge.svg\" alt=\"Open In Colab\"/></a>"
      ]
    },
    {
      "cell_type": "markdown",
      "source": [
        "PRAKTIKUM PEWARISAN"
      ],
      "metadata": {
        "id": "5r2LbPKEbF6f"
      }
    },
    {
      "cell_type": "code",
      "source": [
        "class KelasInduk:\n",
        "  #Definisi kelas induk\n",
        "  pass\n",
        "\n",
        "class KelasAnak(KelasInduk):\n",
        "  #Definisi kelas anak, mewarisi dari KelasInduk\n",
        "  pass"
      ],
      "metadata": {
        "id": "GGQEzb06bEjP"
      },
      "execution_count": 7,
      "outputs": []
    },
    {
      "cell_type": "code",
      "source": [
        "class KelasInduk:\n",
        "  def __init__(self, attr_Induk,):\n",
        "    #Inisialisasi bagian induk\n",
        "    self.attr_induk = attr_Induk\n",
        "\n",
        "class KelasAnak(KelasInduk):\n",
        "  def __init__(slef, attr_induk, attr_anak):\n",
        "    super().__init__(attr_induk) #Memanggil __init__ induk\n",
        "  #Inisialisasi bagian anak\n",
        "    self.attr_anak = attr_anak"
      ],
      "metadata": {
        "id": "FgoFeE2WcB1b"
      },
      "execution_count": 8,
      "outputs": []
    },
    {
      "cell_type": "code",
      "source": [
        "# Kelas Induk\n",
        "class Kendaraan:\n",
        "  def __init__(self, merk):\n",
        "    self.merk = merk\n",
        "\n",
        "  def mulai_mesin(self):\n",
        "    print(f\"Mesin kendaraan (self, merk) dinyalakan.\")\n",
        "\n",
        "#Kelas anak (mewarisi dari Kendaraan)\n",
        "class Mobil (Kendaraan):\n",
        "  def __init__(self, merk, warna):\n",
        "    #Mmemanggil __init__ kelas induk\n",
        "    self.merk = merk\n",
        "    self.warna = warna\n",
        "\n",
        "  def info_mobil(self):\n",
        "    print(f\"Ini adalah mobil (self.merk) berwana (slef.warna).\")\n",
        "\n",
        "#--- kode utama ---\n",
        "if __name__ == \"__main__\":\n",
        "  mobil_tesla = Mobil(\"Tesla model S\", \"Merah\")\n",
        "\n",
        "  #Memanggil metode dari kelas anak\n",
        "  mobil_tesla.info_mobil()\n",
        "\n",
        "  #Memanggil metode yang diwarisi dari kelas induk\n",
        "  mobil_tesla.mulai_mesin()\n",
        "\n",
        "  #Mengakses atribut yang diwarisi (dan di-set di anak)\n",
        "  print(f\"Merk mobil: {mobil_tesla.merk}\")"
      ],
      "metadata": {
        "colab": {
          "base_uri": "https://localhost:8080/"
        },
        "id": "VSL5ZQ5qdDYg",
        "outputId": "0ddcd43b-448b-4ca3-d3a8-003b04dbfa69"
      },
      "execution_count": 9,
      "outputs": [
        {
          "output_type": "stream",
          "name": "stdout",
          "text": [
            "Ini adalah mobil (self.merk) berwana (slef.warna).\n",
            "Mesin kendaraan (self, merk) dinyalakan.\n",
            "Merk mobil: Tesla model S\n"
          ]
        }
      ]
    },
    {
      "cell_type": "code",
      "source": [
        "#Kelas Induk\n",
        "class Person:\n",
        "  def __init__(self, nama, usia):\n",
        "    print(f\"(Memanggil __Init__ Person untuk '(nama)')\")\n",
        "    self.nama = nama\n",
        "    self.usia = usia\n",
        "\n",
        "  def perkenalkan_diri(self):\n",
        "    print(f\"Halo, nama saya {self.nama}, usia saya {self.usia} tahun.\")\n",
        "\n",
        "#Kelas Anak\n",
        "class Student(Person):\n",
        "  def __init__(self, nama, usia, student_id, jurusan):\n",
        "    print(f\"(memanggil __init__ Student untuk'{nama}')\")\n",
        "    #Memanggil __init__ dari kelas Person untuk diinisialisasi nama dan usia\n",
        "    super(). __init__(nama, usia)\n",
        "\n",
        "  #Menambah atribut khusus Student\n",
        "    self.student_id = student_id\n",
        "    self.jurusan = jurusan\n",
        "  print(f\"(Inisialisasi atribut Student selesai untuk '(nama)')\")\n",
        "  def info_akademik(self):\n",
        "    print(f\"ID Mahasiswa: {self.student_id}\")\n",
        "    print(f\"Jurusan: {self.jurusan}\")\n",
        "\n",
        "#Override perkenalkan diri untuk menambahkan info student\n",
        "  def perkenalkan_diri(self):\n",
        "    super().perkenalkan_diri() #Panggil versi Person)\n",
        "    print(f\"Saya adalah mahasiswa dengan ID {self.student_id}, jurusan {self.jurusan}.\")\n",
        "\n",
        "#---Kode Utama---\n",
        "if __name__ == \"__main__\":\n",
        "  #Membuat objek Person\n",
        "  dosen = Person (\"Pak Anton\", 45)\n",
        "  print(\"-\" * 20)\n",
        "  dosen.perkenalkan_diri()\n",
        "  print(\"\\n\" + \"=\" * 30 + \"\\n\")\n",
        "\n",
        "  #Membuat objek Student\n",
        "  mahasiswa = Student(\"Dewi\", 20, \"MHS001\", \"Teknik Komputer\")\n",
        "  print(\"-\" * 20)\n",
        "  mahasiswa.perkenalkan_diri() #Panggil versi override di Student\n",
        "  print (\"-\" * 20)\n",
        "  mahasiswa.info_akademik() #Panggil metode khusus Student\n",
        "  #cek atribut yang diwarisi\n",
        "  print(f\"\\nUsia mahasiswa {mahasiswa.nama}: {mahasiswa.usia}\")\n",
        "  #usia diwarisi dari Person"
      ],
      "metadata": {
        "colab": {
          "base_uri": "https://localhost:8080/"
        },
        "id": "QQawzfLAfiyG",
        "outputId": "79b4787f-d3d4-4657-a220-aa92eacebd75"
      },
      "execution_count": 10,
      "outputs": [
        {
          "output_type": "stream",
          "name": "stdout",
          "text": [
            "(Inisialisasi atribut Student selesai untuk '(nama)')\n",
            "(Memanggil __Init__ Person untuk '(nama)')\n",
            "--------------------\n",
            "Halo, nama saya Pak Anton, usia saya 45 tahun.\n",
            "\n",
            "==============================\n",
            "\n",
            "(memanggil __init__ Student untuk'Dewi')\n",
            "(Memanggil __Init__ Person untuk '(nama)')\n",
            "--------------------\n",
            "Halo, nama saya Dewi, usia saya 20 tahun.\n",
            "Saya adalah mahasiswa dengan ID MHS001, jurusan Teknik Komputer.\n",
            "--------------------\n",
            "ID Mahasiswa: MHS001\n",
            "Jurusan: Teknik Komputer\n",
            "\n",
            "Usia mahasiswa Dewi: 20\n"
          ]
        }
      ]
    },
    {
      "cell_type": "code",
      "source": [
        "#Kelas induk\n",
        "class Hewan:\n",
        "  def __init__(self, nama):\n",
        "    self.nama = nama\n",
        "\n",
        "  def bersuara(self):\n",
        "    print(f\"{self.nama} mengeluarkan suara genetik.\")\n",
        "\n",
        "  def tampilkan_info(self):\n",
        "    print(f\"Ini adalah hewan bernama {self.nama}.\")\n",
        "\n",
        "#Kelas anak\n",
        "class Kucing (Hewan):\n",
        "  def __init__(self, nama, ras):\n",
        "    super().__init__(nama) #Panggil init induk\n",
        "    self.ras = ras\n",
        "\n",
        "#Method overrideing untuk bersuara\n",
        "  def bersuara(self):\n",
        "    print(f\"{self.nama} (kucing) mengeong: Meow!\")\n",
        "\n",
        "#Method overriding untuk menampilkan info, memanggil versi induk\n",
        "  def tampilkan_info(self):\n",
        "    super().tampilkan_info() #Panggil implementasi dari Hewan\n",
        "    print(f\"Ini adalah kucing ras {self.ras}.\") #Tambahkan info spesifik\n",
        "\n",
        "#---Kode Utama---\n",
        "if __name__ == \"__main__\":\n",
        "  hewan_umum = Hewan (\"Makhluk\")\n",
        "  kucing_persia = Kucing(\"Puspus\", \"Persia\")\n",
        "\n",
        "  print(\"Info Hewan Umum: \")\n",
        "  hewan_umum.tampilkan_info()\n",
        "  hewan_umum.bersuara()\n",
        "  print(\"-\" * 20)\n",
        "\n",
        "  print(\"Info Kucing Persia:\")\n",
        "  kucing_persia.tampilkan_info() #Akan memangggil versi kucing\n",
        "  kucing_persia.bersuara() #Akan memanggil versi Kucing"
      ],
      "metadata": {
        "colab": {
          "base_uri": "https://localhost:8080/"
        },
        "id": "pMBb-0RcmJ90",
        "outputId": "c7e88589-cf68-406c-cc76-adf117585305"
      },
      "execution_count": 11,
      "outputs": [
        {
          "output_type": "stream",
          "name": "stdout",
          "text": [
            "Info Hewan Umum: \n",
            "Ini adalah hewan bernama Makhluk.\n",
            "Makhluk mengeluarkan suara genetik.\n",
            "--------------------\n",
            "Info Kucing Persia:\n",
            "Ini adalah hewan bernama Puspus.\n",
            "Ini adalah kucing ras Persia.\n",
            "Puspus (kucing) mengeong: Meow!\n"
          ]
        }
      ]
    },
    {
      "cell_type": "code",
      "source": [
        "#Kelas induk level 1\n",
        "class Organisme:\n",
        "  def __init__(self, nama):\n",
        "    self.nama = nama\n",
        "    print(f\"Organisme '{self.nama}' diciptakan.\")\n",
        "\n",
        "  def bernapas(self):\n",
        "    print(f\"{self.nama} sedang bernapas.\")\n",
        "\n",
        "#Kelas anak level 1 (mewarisi daro Organisme)\n",
        "class Hewan(Organisme):\n",
        "  def __init__(self, nama, jenis_makanan):\n",
        "    super().__init__(nama) #Panggil init Organisme\n",
        "    self.jenis_makanan = jenis_makanan\n",
        "    print(f\"Hewan '{self.nama}' adalah {self.jenis_makanan}.\")\n",
        "  def bergerak(self):\n",
        "      print(f\"{self.nama} sedang bergerak.\")\n",
        "\n",
        "#Kelas anak level 2 (mewarisi dari hewan)\n",
        "class Mamalia(Hewan):\n",
        "  def __init__(self, nama, jenis_makanan, jumlah_kaki):\n",
        "    super().__init__(nama, jenis_makanan) #panggil init hewan\n",
        "    self.jumlah_kaki = jumlah_kaki\n",
        "    print(f\"Mamalia '{self.nama}' memiliki {self.jumlah_kaki} kaki.\")\n",
        "  def menyusui(self):\n",
        "    print(f\"{self.nama} sedang menyusui.\")\n",
        "\n",
        "#---Kode Utama---\n",
        "if __name__ == \"__main__\":\n",
        "  kucing = Mamalia(\"Kucing Persia\", \"Karnivora\", 4)\n",
        "  print(\"_\" * 20)\n",
        "\n",
        "  #Memanggil metode dari kelas mamalia\n",
        "  kucing.menyusui()\n",
        "\n",
        "  #Memanggil metode yang diwarisi dari kelas Hewan\n",
        "  kucing.bergerak()\n",
        "  print(f\"Jenis makanan: {kucing.jenis_makanan}\")\n",
        "\n",
        "  #Memanggil metode yang diwarisi dari kelas Organisme\n",
        "  kucing.bernapas()\n",
        "  print(f\"Nama organisme: {kucing.nama}\")\n"
      ],
      "metadata": {
        "colab": {
          "base_uri": "https://localhost:8080/"
        },
        "id": "rq-bZUIvpqBr",
        "outputId": "acdb1ee5-a0ac-4870-fcd5-528e1d9f4905"
      },
      "execution_count": 12,
      "outputs": [
        {
          "output_type": "stream",
          "name": "stdout",
          "text": [
            "Organisme 'Kucing Persia' diciptakan.\n",
            "Hewan 'Kucing Persia' adalah Karnivora.\n",
            "Mamalia 'Kucing Persia' memiliki 4 kaki.\n",
            "____________________\n",
            "Kucing Persia sedang menyusui.\n",
            "Kucing Persia sedang bergerak.\n",
            "Jenis makanan: Karnivora\n",
            "Kucing Persia sedang bernapas.\n",
            "Nama organisme: Kucing Persia\n"
          ]
        }
      ]
    },
    {
      "cell_type": "code",
      "source": [
        "import locale\n",
        "\n",
        "# Set locale ke Indonesia untuk format mata uang\n",
        "try:\n",
        "  locale.setlocale(locale.LC_ALL, 'id_ID.UTF-8')\n",
        "except locale.Error:\n",
        "  # If 'id_ID.UTF-8' is not available, try 'id_ID'\n",
        "  try:\n",
        "    locale.setlocale(locale.LC_ALL, 'id_ID')\n",
        "    print(\"Locale id_ID.UTF-8 tidak tersedia, menggunakan locale id_ID.\")\n",
        "  except locale.Error:\n",
        "    # If 'id_ID' is also not available, use default and print a message\n",
        "    locale.setlocale(locale.LC_ALL, '')\n",
        "    print(\"Locale id_ID.UTF-8 dan id_ID tidak tersedia, menggunakan locale default.\")\n",
        "\n",
        "\n",
        "# Fungsi helper untuk format mata uang\n",
        "def format_rupiah(angka):\n",
        "    return locale.currency(angka, grouping=True, symbol='Rp')\n",
        "\n",
        "#Kelas induk\n",
        "class Pegawai:\n",
        "  def __init__(self, nama, id_pegawai, gaji_pokok):\n",
        "    self.nama = nama\n",
        "    self.id_pegawai = id_pegawai\n",
        "    self.gaji_pokok = gaji_pokok\n",
        "\n",
        "  def hitung_gaji(self):\n",
        "    #Gaji besar, bisa di-override\n",
        "    return self.gaji_pokok\n",
        "\n",
        "  def tampilkan_info(self):\n",
        "    print(f\"ID: {self.id_pegawai}, Nama: {self.nama}\")\n",
        "    print(f\"Gaji pokok: {format_rupiah(self.gaji_pokok)}\")\n",
        "\n",
        "#Kelas anak 1\n",
        "class Manager(Pegawai):\n",
        "  def __init__(self, nama, id_pegawai, gaji_pokok, tunjangan_jabatan):\n",
        "    super().__init__(nama, id_pegawai, gaji_pokok)\n",
        "    self.tunjangan_jabatan = tunjangan_jabatan # Fixed: Removed colon\n",
        "\n",
        "#Override hitung gaji\n",
        "  def hitung_gaji(self):\n",
        "    gaji_total = super().hitung_gaji() + self.tunjangan_jabatan # Fixed: Changed gaji_totala to gaji_total\n",
        "    return gaji_total\n",
        "\n",
        "#Override tampilkan info (memanggil versi induk)\n",
        "  def tampilkan_info(self):\n",
        "    print(\"---Info Manager---\")\n",
        "    super().tampilkan_info() #panggil info dasar dari pegawai\n",
        "    print(f\"Tunjangan jabatan: {format_rupiah(self.tunjangan_jabatan)}\")\n",
        "    print(f\"Total gaji: {format_rupiah(self.hitung_gaji())}\") # Fixed: Added parentheses to call hitung_gaji\n",
        "\n",
        "#Kelas anak 2\n",
        "class Stafteknik(Pegawai): # This is defined correctly as Stafteknik\n",
        "  def __init__(self, nama, id_pegawai, gaji_pokok, keahlian, bonus_keahlian):\n",
        "    super().__init__(nama, id_pegawai, gaji_pokok)\n",
        "    self.keahlian = keahlian\n",
        "    self.bonus_keahlian = bonus_keahlian\n",
        "\n",
        "#Override hitung gaji\n",
        "  def hitung_gaji(self):\n",
        "    gaji_total = super().hitung_gaji() + self.bonus_keahlian # Fixed: Changed hitung.gaji to hitung_gaji\n",
        "    return gaji_total\n",
        "\n",
        "#Override tampilkan info (memanggil versi induk)\n",
        "  def tampilkan_info(self):\n",
        "    print(\"--- Info Staf Teknik ---\")\n",
        "    super().tampilkan_info() # Fixed: Changed tampikan_info to tampilkan_info\n",
        "    print(f\"Keahlian: {self.keahlian}\")\n",
        "    print(f\"Bonus kehalian: {format_rupiah(self.bonus_keahlian)}\")\n",
        "\n",
        "#---Kode Utama---\n",
        "if __name__ == \"__main__\":\n",
        "    manager1 = Manager(\"Budi Santoso\", \"M001\", 10000000, 5000000)\n",
        "    staf1 = Stafteknik(\"Citra Lestari\", \"S001\", 7000000, \"Python Programming\", 1500000) # Fixed: Changed StafTeknis to Stafteknik\n",
        "    pegawai_baru = Pegawai(\"Rian\", \"P005\", 5000000) #Pegawai biasa\n",
        "    print(\"Menampilkan Informasi Pegawai:\")\n",
        "    manager1.tampilkan_info()\n",
        "    print(\"-\" * 30)\n",
        "    staf1.tampilkan_info()\n",
        "    print(\"-\" * 30)\n",
        "\n",
        "    print(\"---info Pegawai Baru---\")\n",
        "    pegawai_baru.tampilkan_info()\n",
        "    print(f\"Total Gaji: {format_rupiah(pegawai_baru.hitung_gaji())}\") #memanggil versi pegawai # Fixed: Added parentheses to call hitung_gaji\n",
        "    print(\"-\" * 30)"
      ],
      "metadata": {
        "id": "m_5dU7MqsFTm",
        "colab": {
          "base_uri": "https://localhost:8080/"
        },
        "outputId": "335870ce-fa3a-491a-d260-2106c801145a"
      },
      "execution_count": 13,
      "outputs": [
        {
          "output_type": "stream",
          "name": "stdout",
          "text": [
            "Locale id_ID.UTF-8 dan id_ID tidak tersedia, menggunakan locale default.\n",
            "Menampilkan Informasi Pegawai:\n",
            "---Info Manager---\n",
            "ID: M001, Nama: Budi Santoso\n",
            "Gaji pokok: $10,000,000.00\n",
            "Tunjangan jabatan: $5,000,000.00\n",
            "Total gaji: $15,000,000.00\n",
            "------------------------------\n",
            "--- Info Staf Teknik ---\n",
            "ID: S001, Nama: Citra Lestari\n",
            "Gaji pokok: $7,000,000.00\n",
            "Keahlian: Python Programming\n",
            "Bonus kehalian: $1,500,000.00\n",
            "------------------------------\n",
            "---info Pegawai Baru---\n",
            "ID: P005, Nama: Rian\n",
            "Gaji pokok: $5,000,000.00\n",
            "Total Gaji: $5,000,000.00\n",
            "------------------------------\n"
          ]
        }
      ]
    },
    {
      "cell_type": "code",
      "source": [
        "class BentukGeometri:\n",
        "    def __init__(self, nama_bentuk):\n",
        "        self.nama = nama_bentuk\n",
        "\n",
        "    def tampilkan_nama(self):\n",
        "        print(f\"Ini adalah bentuk: {self.nama}\")\n",
        "\n",
        "    def hitung_luas(self):\n",
        "        print(f\"Luas {self.nama} tidak dapat dihitung (generik).\")\n",
        "\n",
        "\n",
        "class PersegiPanjang(BentukGeometri):\n",
        "    def __init__(self, panjang, lebar):\n",
        "        super().__init__(\"Persegi Panjang\")\n",
        "        self.panjang = panjang\n",
        "        self.lebar = lebar\n",
        "\n",
        "    def hitung_luas(self):\n",
        "        luas = self.panjang * self.lebar\n",
        "        print(f\"Luas {self.nama}: {luas}\")\n",
        "\n",
        "\n",
        "class Segitiga(BentukGeometri):\n",
        "    def __init__(self, alas, tinggi):\n",
        "        super().__init__(\"Segitiga\")\n",
        "        self.alas = alas\n",
        "        self.tinggi = tinggi\n",
        "\n",
        "    def hitung_luas(self):\n",
        "        luas = 0.5 * self.alas * self.tinggi\n",
        "        print(f\"Luas {self.nama}: {luas}\")\n",
        "\n",
        "\n",
        "def proses_bentuk(bentuk):\n",
        "    print(f\"\\nMemproses objek: {type(bentuk)}\")\n",
        "\n",
        "    if isinstance(bentuk, BentukGeometri):\n",
        "        bentuk.tampilkan_nama()\n",
        "        print(\"Objek ini adalah instance dari BentukGeometri (atau turunannya).\")\n",
        "\n",
        "        if isinstance(bentuk, PersegiPanjang):\n",
        "            print(\"-> Objek ini juga instance dari PersegiPanjang.\")\n",
        "        elif isinstance(bentuk, Segitiga):\n",
        "            print(\"-> Objek ini juga instance dari Segitiga.\")\n",
        "    else:\n",
        "        print(\"Objek ini BUKAN instance dari BentukGeometri.\")\n",
        "\n",
        "    if isinstance(bentuk, str):\n",
        "        print(\"Objek ini adalah string.\")\n",
        "\n",
        "\n",
        "# --- Kode Utama ---\n",
        "if __name__ == \"__main__\":\n",
        "    pp = PersegiPanjang(4, 3)\n",
        "    seg = Segitiga(5, 2)\n",
        "    bg = BentukGeometri(\"Lingkaran\")  # Contoh lain\n",
        "    teks = \"Ini string\"\n",
        "\n",
        "    daftar_objek = [pp, seg, bg, teks]\n",
        "\n",
        "    for obj in daftar_objek:\n",
        "        proses_bentuk(obj)\n"
      ],
      "metadata": {
        "colab": {
          "base_uri": "https://localhost:8080/"
        },
        "id": "O3xcfjAGBHOW",
        "outputId": "a49117a8-be5d-4222-840e-5bc451a5d8f5"
      },
      "execution_count": 14,
      "outputs": [
        {
          "output_type": "stream",
          "name": "stdout",
          "text": [
            "\n",
            "Memproses objek: <class '__main__.PersegiPanjang'>\n",
            "Ini adalah bentuk: Persegi Panjang\n",
            "Objek ini adalah instance dari BentukGeometri (atau turunannya).\n",
            "-> Objek ini juga instance dari PersegiPanjang.\n",
            "\n",
            "Memproses objek: <class '__main__.Segitiga'>\n",
            "Ini adalah bentuk: Segitiga\n",
            "Objek ini adalah instance dari BentukGeometri (atau turunannya).\n",
            "-> Objek ini juga instance dari Segitiga.\n",
            "\n",
            "Memproses objek: <class '__main__.BentukGeometri'>\n",
            "Ini adalah bentuk: Lingkaran\n",
            "Objek ini adalah instance dari BentukGeometri (atau turunannya).\n",
            "\n",
            "Memproses objek: <class 'str'>\n",
            "Objek ini BUKAN instance dari BentukGeometri.\n",
            "Objek ini adalah string.\n"
          ]
        }
      ]
    },
    {
      "cell_type": "markdown",
      "source": [
        "PRAKTIKUM"
      ],
      "metadata": {
        "id": "ajoa50UjOxVZ"
      }
    },
    {
      "cell_type": "code",
      "source": [
        "# Kelas Induk\n",
        "class Mahasiswa:\n",
        "    def __init__(self, nama, nim, ipk):\n",
        "        self.nama = nama\n",
        "        self.nim = nim\n",
        "        self.ipk = ipk\n",
        "\n",
        "    def tampilkan_info(self):\n",
        "        print(f\"Nama: {self.nama}\")\n",
        "        print(f\"NIM: {self.nim}\")\n",
        "        print(f\"IPK: {self.ipk}\")\n",
        "\n",
        "    def hitung_predikat(self):\n",
        "        if self.ipk >= 3.5:\n",
        "            predikat = \"Dengan Pujian\"\n",
        "        elif self.ipk >= 3.0:\n",
        "            predikat = \"Sangat Memuaskan\"\n",
        "        elif self.ipk >= 2.5:\n",
        "            predikat = \"Memuaskan\"\n",
        "        else:\n",
        "            predikat = \"Cukup\"\n",
        "        print(f\"Predikat: {predikat}\")\n",
        "\n",
        "# Kelas Anak 1\n",
        "class MahasiswaSarjana(Mahasiswa):\n",
        "    def __init__(self, nama, nim, ipk, semester, sks_lulus):\n",
        "        super().__init__(nama, nim, ipk)\n",
        "        self.semester = semester\n",
        "        self.sks_lulus = sks_lulus\n",
        "\n",
        "    def tampilkan_info(self):\n",
        "        super().tampilkan_info()\n",
        "        print(f\"Semester: {self.semester}\")\n",
        "        print(f\"SKS Lulus: {self.sks_lulus}\")\n",
        "\n",
        "# Kelas Anak 2\n",
        "class MahasiswaMagister(Mahasiswa):\n",
        "    def __init__(self, nama, nim, ipk, judul_tesis, nama_pembimbing):\n",
        "        super().__init__(nama, nim, ipk)\n",
        "        self.judul_tesis = judul_tesis\n",
        "        self.nama_pembimbing = nama_pembimbing\n",
        "\n",
        "    def tampilkan_info(self):\n",
        "        super().tampilkan_info()\n",
        "        print(f\"Judul Tesis: {self.judul_tesis}\")\n",
        "        print(f\"Pembimbing: {self.nama_pembimbing}\")\n",
        "\n",
        "# --- Kode Utama ---\n",
        "if __name__ == \"__main__\":\n",
        "    mhs1 = Mahasiswa(\"Aisyah\", \"533279\", 3.6)\n",
        "    mhs_sarjana = MahasiswaSarjana(\"Citra\", \"333475\", 3.2, 6, 120)\n",
        "    mhs_magister = MahasiswaMagister(\"Rara\", \"146378\", 3.8, \"Analisis Data Mahasiswa\", \"Dr. Surya\")\n",
        "\n",
        "    print(\"\\n=== Mahasiswa Umum ===\")\n",
        "    mhs1.tampilkan_info()\n",
        "    mhs1.hitung_predikat()\n",
        "\n",
        "    print(\"\\n=== Mahasiswa Sarjana ===\")\n",
        "    mhs_sarjana.tampilkan_info()\n",
        "    mhs_sarjana.hitung_predikat()\n",
        "\n",
        "    print(\"\\n=== Mahasiswa Magister ===\")\n",
        "    mhs_magister.tampilkan_info()\n",
        "    mhs_magister.hitung_predikat()\n"
      ],
      "metadata": {
        "colab": {
          "base_uri": "https://localhost:8080/"
        },
        "id": "zgJICJ_6Oy9W",
        "outputId": "2fee5d61-3d94-47b3-f13f-e810ea42355a"
      },
      "execution_count": 17,
      "outputs": [
        {
          "output_type": "stream",
          "name": "stdout",
          "text": [
            "\n",
            "=== Mahasiswa Umum ===\n",
            "Nama: Aisyah\n",
            "NIM: 533279\n",
            "IPK: 3.6\n",
            "Predikat: Dengan Pujian\n",
            "\n",
            "=== Mahasiswa Sarjana ===\n",
            "Nama: Citra\n",
            "NIM: 333475\n",
            "IPK: 3.2\n",
            "Semester: 6\n",
            "SKS Lulus: 120\n",
            "Predikat: Sangat Memuaskan\n",
            "\n",
            "=== Mahasiswa Magister ===\n",
            "Nama: Rara\n",
            "NIM: 146378\n",
            "IPK: 3.8\n",
            "Judul Tesis: Analisis Data Mahasiswa\n",
            "Pembimbing: Dr. Surya\n",
            "Predikat: Dengan Pujian\n"
          ]
        }
      ]
    }
  ]
}