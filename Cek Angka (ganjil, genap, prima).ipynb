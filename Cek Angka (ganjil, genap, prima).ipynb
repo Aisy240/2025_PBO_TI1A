{
  "nbformat": 4,
  "nbformat_minor": 0,
  "metadata": {
    "colab": {
      "provenance": [],
      "authorship_tag": "ABX9TyMwOEdxsC9UaU1fvtfwlo5m",
      "include_colab_link": true
    },
    "kernelspec": {
      "name": "python3",
      "display_name": "Python 3"
    },
    "language_info": {
      "name": "python"
    }
  },
  "cells": [
    {
      "cell_type": "markdown",
      "metadata": {
        "id": "view-in-github",
        "colab_type": "text"
      },
      "source": [
        "<a href=\"https://colab.research.google.com/github/Aisy240/2025_PBO_TI1A/blob/main/Cek%20Angka%20(ganjil%2C%20genap%2C%20prima).ipynb\" target=\"_parent\"><img src=\"https://colab.research.google.com/assets/colab-badge.svg\" alt=\"Open In Colab\"/></a>"
      ]
    },
    {
      "cell_type": "code",
      "execution_count": 1,
      "metadata": {
        "colab": {
          "base_uri": "https://localhost:8080/"
        },
        "id": "FTqylPB_wTG3",
        "outputId": "f2e731bd-d6fc-47b5-9fc9-62d67a457682"
      },
      "outputs": [
        {
          "output_type": "stream",
          "name": "stdout",
          "text": [
            "Masukkan bilangan: 2\n",
            "2 adalah bilangan genap\n",
            "2 adalah bilangan prima\n"
          ]
        }
      ],
      "source": [
        "def cek_bilangan(n):\n",
        "    if n % 2 == 0:\n",
        "        print(f\"{n} adalah bilangan genap\")\n",
        "    else:\n",
        "        print(f\"{n} adalah bilangan ganjil\")\n",
        "\n",
        "    if n > 1:\n",
        "        for i in range(2, int(n**0.5) + 1):\n",
        "            if n % i == 0:\n",
        "                print(f\"{n} bukan bilangan prima\")\n",
        "                return\n",
        "        print(f\"{n} adalah bilangan prima\")\n",
        "    else:\n",
        "        print(f\"{n} bukan bilangan prima\")\n",
        "\n",
        "angka = int(input(\"Masukkan bilangan: \"))\n",
        "cek_bilangan(angka)"
      ]
    }
  ]
}